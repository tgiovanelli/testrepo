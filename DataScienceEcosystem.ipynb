{
 "cells": [
  {
   "cell_type": "markdown",
   "id": "c898136d-bcc5-404d-8bd7-d15dcffd2920",
   "metadata": {},
   "source": [
    "# Data Science Tools and Ecosystem"
   ]
  },
  {
   "cell_type": "markdown",
   "id": "8c84062e-c78e-46bc-ae68-0c894ea0eaea",
   "metadata": {
    "tags": []
   },
   "source": [
    "In this notebook, Data Science Tools and Ecosystem are summarized."
   ]
  },
  {
   "cell_type": "markdown",
   "id": "3fbf262a-d474-40b4-879c-1cbea43eb47e",
   "metadata": {
    "tags": []
   },
   "source": [
    "Some of the popular languages that Data Scientists use are:\n",
    "1. Python\n",
    "2. SQL\n",
    "3. R\n",
    "4. C/C++\n",
    "5. Java\n",
    "6. MATLAB"
   ]
  },
  {
   "cell_type": "markdown",
   "id": "e57f3ba1-dfe6-4230-9725-ddf8b624e308",
   "metadata": {},
   "source": [
    "Some of the commonly used libraries used by Data Scientists include:\n",
    "1. NumPy\n",
    "2. Matplotlib\n",
    "3. Pandas\n",
    "4. SciPy\n",
    "5. PyTorch\n",
    "6. AutoML"
   ]
  },
  {
   "cell_type": "markdown",
   "id": "c17bdf64-c3cd-4ce5-a0d0-b50694dd3dc6",
   "metadata": {},
   "source": [
    "| Data Science Tools |\n",
    "| -------------|\n",
    "| Jupyter Notebooks |\n",
    "| Zeppelin Notebooks |\n",
    "| RStudio |"
   ]
  },
  {
   "cell_type": "markdown",
   "id": "ae91a462-b0ef-4a93-89d4-c744dbe76da8",
   "metadata": {},
   "source": [
    "### Below are a few examples of evaluating arithmetic expressions in Python:"
   ]
  },
  {
   "cell_type": "code",
   "execution_count": 4,
   "id": "46e20be2-4981-4c17-ae92-dcc8da860fb5",
   "metadata": {
    "tags": []
   },
   "outputs": [
    {
     "data": {
      "text/plain": [
       "4"
      ]
     },
     "execution_count": 4,
     "metadata": {},
     "output_type": "execute_result"
    }
   ],
   "source": [
    "2*2"
   ]
  },
  {
   "cell_type": "code",
   "execution_count": 5,
   "id": "865b9393-e967-4a7b-b736-2750148196c8",
   "metadata": {
    "tags": []
   },
   "outputs": [
    {
     "data": {
      "text/plain": [
       "50"
      ]
     },
     "execution_count": 5,
     "metadata": {},
     "output_type": "execute_result"
    }
   ],
   "source": [
    "10*5"
   ]
  },
  {
   "cell_type": "code",
   "execution_count": 6,
   "id": "d02b1a01-598d-4989-8bbb-21756a55a119",
   "metadata": {
    "tags": []
   },
   "outputs": [
    {
     "data": {
      "text/plain": [
       "10"
      ]
     },
     "execution_count": 6,
     "metadata": {},
     "output_type": "execute_result"
    }
   ],
   "source": [
    "(10-5)*2"
   ]
  },
  {
   "cell_type": "code",
   "execution_count": 8,
   "id": "13e10d5e-40ba-4d45-adde-e3fde3d3c593",
   "metadata": {
    "tags": []
   },
   "outputs": [],
   "source": [
    "# This a simple arithmetic expression to mutiply then add integers"
   ]
  },
  {
   "cell_type": "code",
   "execution_count": 1,
   "id": "710f9735-b5a8-4d5e-afd8-c13a7592da10",
   "metadata": {
    "tags": []
   },
   "outputs": [
    {
     "data": {
      "text/plain": [
       "17"
      ]
     },
     "execution_count": 1,
     "metadata": {},
     "output_type": "execute_result"
    }
   ],
   "source": [
    "(3*4)+5"
   ]
  },
  {
   "cell_type": "code",
   "execution_count": null,
   "id": "f3732f0a-d61d-43ab-bebf-7006b1e6e594",
   "metadata": {},
   "outputs": [],
   "source": [
    "# This code converts minutes to hours."
   ]
  },
  {
   "cell_type": "code",
   "execution_count": 2,
   "id": "4b1f0959-5203-4c32-9edd-4a3ee5e84515",
   "metadata": {
    "tags": []
   },
   "outputs": [
    {
     "data": {
      "text/plain": [
       "3.3333333333333335"
      ]
     },
     "execution_count": 2,
     "metadata": {},
     "output_type": "execute_result"
    }
   ],
   "source": [
    "200/60"
   ]
  },
  {
   "cell_type": "markdown",
   "id": "208ff4de-7336-4ea8-8590-a9d4c01c8a45",
   "metadata": {},
   "source": [
    "**Objectives:**"
   ]
  },
  {
   "cell_type": "markdown",
   "id": "fd52afce-4e49-45e0-a819-ce34c38612da",
   "metadata": {},
   "source": [
    "- Popular languages that Data Scientists use\n",
    "- Commonly used libraries by Data Scientists\n",
    "- Data Science Tools"
   ]
  },
  {
   "cell_type": "markdown",
   "id": "f50ec9e2-79e5-4956-ad66-844315da0369",
   "metadata": {},
   "source": [
    "## Author"
   ]
  },
  {
   "cell_type": "markdown",
   "id": "aa3d0075-a04b-48d5-ba4e-5694ac50df21",
   "metadata": {},
   "source": [
    "Tara Giovanelli"
   ]
  }
 ],
 "metadata": {
  "kernelspec": {
   "display_name": "Python",
   "language": "python",
   "name": "conda-env-python-py"
  },
  "language_info": {
   "codemirror_mode": {
    "name": "ipython",
    "version": 3
   },
   "file_extension": ".py",
   "mimetype": "text/x-python",
   "name": "python",
   "nbconvert_exporter": "python",
   "pygments_lexer": "ipython3",
   "version": "3.7.12"
  }
 },
 "nbformat": 4,
 "nbformat_minor": 5
}
